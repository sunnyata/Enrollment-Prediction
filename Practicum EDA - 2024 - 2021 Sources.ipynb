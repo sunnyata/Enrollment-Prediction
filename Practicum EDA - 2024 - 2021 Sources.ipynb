{
 "cells": [
  {
   "cell_type": "code",
   "execution_count": 1,
   "id": "21556753",
   "metadata": {},
   "outputs": [
    {
     "name": "stderr",
     "output_type": "stream",
     "text": [
      "<>:8: SyntaxWarning: invalid escape sequence '\\O'\n",
      "<>:8: SyntaxWarning: invalid escape sequence '\\O'\n",
      "C:\\Users\\GG\\AppData\\Local\\Temp\\ipykernel_13056\\3245599599.py:8: SyntaxWarning: invalid escape sequence '\\O'\n",
      "  os.chdir(\"G:\\OMSA\\Practicum\\\\2021\")\n"
     ]
    },
    {
     "name": "stdout",
     "output_type": "stream",
     "text": [
      "G:\\OMSA\\Practicum\\2021\n"
     ]
    }
   ],
   "source": [
    "# Importing libraries\n",
    "import numpy as np\n",
    "import pandas as pd\n",
    "import matplotlib.pyplot as plt\n",
    "\n",
    "import os\n",
    "\n",
    "os.chdir(\"G:\\OMSA\\Practicum\\\\2021\")\n",
    "current_directory = os.getcwd()\n",
    "print(current_directory) "
   ]
  },
  {
   "cell_type": "code",
   "execution_count": 2,
   "id": "7d995cde",
   "metadata": {
    "scrolled": true
   },
   "outputs": [
    {
     "name": "stderr",
     "output_type": "stream",
     "text": [
      "C:\\Users\\GG\\AppData\\Local\\Temp\\ipykernel_13056\\1585645841.py:1: DtypeWarning: Columns (3,4,5,7,10,13,14,15,16,17,18,19) have mixed types. Specify dtype option on import or set low_memory=False.\n",
      "  df = pd.read_csv(r\"G:\\OMSA\\Practicum\\2021\\SF_Leads-Inqs_Base_Fall2021_Anonymized.csv\", encoding='latin-1')\n"
     ]
    }
   ],
   "source": [
    "df = pd.read_csv(r\"G:\\OMSA\\Practicum\\2021\\SF_Leads-Inqs_Base_Fall2021_Anonymized.csv\", encoding='latin-1')"
   ]
  },
  {
   "cell_type": "code",
   "execution_count": 3,
   "id": "b5f4413e",
   "metadata": {
    "scrolled": true
   },
   "outputs": [],
   "source": [
    "#df.describe()"
   ]
  },
  {
   "cell_type": "code",
   "execution_count": 4,
   "id": "51d3f125",
   "metadata": {
    "scrolled": true
   },
   "outputs": [],
   "source": [
    "#df[df.duplicated('lead_id')]"
   ]
  },
  {
   "cell_type": "code",
   "execution_count": 5,
   "id": "6738ab56",
   "metadata": {},
   "outputs": [],
   "source": [
    "df2 = pd.read_csv(r\"G:\\OMSA\\Practicum\\2021\\SF_Leads_Fall2021_Anonymized.csv\", encoding='latin-1')\n",
    "#df2.describe()\n"
   ]
  },
  {
   "cell_type": "code",
   "execution_count": 6,
   "id": "61480ed4",
   "metadata": {},
   "outputs": [],
   "source": [
    "# Converting to DateTime format and sorting by date\n",
    "df2['lead_createddate'] = pd.to_datetime(df2['lead_createddate'])\n",
    "#print(df2.dtypes)\n",
    "df2.sort_values(by='lead_createddate', ascending=True, inplace = True) \n",
    "#df2.head(50)\n",
    "#df2.describe()"
   ]
  },
  {
   "cell_type": "code",
   "execution_count": 7,
   "id": "8785f95d",
   "metadata": {},
   "outputs": [],
   "source": [
    "# Deduping based on unique_id column and dropping all but the first row from the sorted df2 (i.e. leaving the earliest lead_createddate for each unique_id)\n",
    "df2.drop_duplicates(subset=['unique_id'], keep='first', inplace= True)\n",
    "#df2.head(50)"
   ]
  },
  {
   "cell_type": "code",
   "execution_count": 8,
   "id": "05c3231c",
   "metadata": {},
   "outputs": [],
   "source": [
    "# Left merging df1 and df2 \n",
    "sources = pd.merge(df, df2[['lead_id','lead_createddate', 'source_type', 'source', 'source_group', 'source_stage']], on='lead_id', how='left', suffixes=(None,\"_FLS\"))\n",
    "#sources.head()\n",
    "#sources.describe()"
   ]
  },
  {
   "cell_type": "code",
   "execution_count": 9,
   "id": "7dda1db6",
   "metadata": {
    "scrolled": true
   },
   "outputs": [
    {
     "data": {
      "text/plain": [
       "Index(['Term_Group', 'unique_id', 'lead_id', 'inquiry_id', 'inquiry_opp_id',\n",
       "       'app_id', 'lead_createddate', 'contact_createddate', 'lead_city',\n",
       "       'lead_country', 'lead_intlstudent', 'lead_ethnicity', 'lead_gender',\n",
       "       'contact_city', 'inquiry_home_country', 'inquiry_mailing_country',\n",
       "       'inquiry_ethnicity', 'inquiry_gender', 'inquiry_langspokenathome',\n",
       "       'inquiry_opp_type', 'lead_createddate_FLS', 'source_type_FLS',\n",
       "       'source_FLS', 'source_group_FLS', 'source_stage_FLS'],\n",
       "      dtype='object')"
      ]
     },
     "execution_count": 9,
     "metadata": {},
     "output_type": "execute_result"
    }
   ],
   "source": [
    "# Renaming merged columns\n",
    "sources.columns.values[21:25] = ['source_type_FLS', 'source_FLS', 'source_group_FLS', 'source_stage_FLS']\n",
    "sources.columns"
   ]
  },
  {
   "cell_type": "code",
   "execution_count": 10,
   "id": "85c64c6e",
   "metadata": {
    "scrolled": true
   },
   "outputs": [],
   "source": [
    "df3 = pd.read_csv(r\"G:\\OMSA\\Practicum\\2021\\SF_Other_Source_Fall2021_Anonymized.csv\", encoding='latin-1')\n",
    "#df3.describe()\n",
    "df3['othersource_created_dt'] = pd.to_datetime(df3['othersource_created_dt'])\n",
    "#print(df2.dtypes)\n",
    "df3.sort_values(by='othersource_created_dt', ascending=True, inplace = True) \n",
    "df3.drop_duplicates(subset=['unique_id'], keep='first', inplace= True)\n",
    "#df3.head(50)\n"
   ]
  },
  {
   "cell_type": "code",
   "execution_count": 11,
   "id": "6c185955",
   "metadata": {},
   "outputs": [],
   "source": [
    "#df3.columns\n",
    "#df3.describe()"
   ]
  },
  {
   "cell_type": "code",
   "execution_count": 12,
   "id": "689dbdc8",
   "metadata": {
    "scrolled": true
   },
   "outputs": [],
   "source": [
    "sources = pd.merge(sources, df3[['inquiry_id','othersource_created_dt', 'source_type', 'source', 'source_group', 'source_stage']], on='inquiry_id', how='left', suffixes=(None,\"_FOS\"))\n",
    "#sources.head()\n",
    "#sources.describe()"
   ]
  },
  {
   "cell_type": "code",
   "execution_count": 13,
   "id": "bb24f1ca",
   "metadata": {},
   "outputs": [
    {
     "data": {
      "text/plain": [
       "array(['source_type', 'source', 'source_group', 'source_stage'],\n",
       "      dtype=object)"
      ]
     },
     "execution_count": 13,
     "metadata": {},
     "output_type": "execute_result"
    }
   ],
   "source": [
    "sources.columns.values[26:30]"
   ]
  },
  {
   "cell_type": "code",
   "execution_count": 14,
   "id": "c746cddf",
   "metadata": {},
   "outputs": [
    {
     "data": {
      "text/plain": [
       "Index(['Term_Group', 'unique_id', 'lead_id', 'inquiry_id', 'inquiry_opp_id',\n",
       "       'app_id', 'lead_createddate', 'contact_createddate', 'lead_city',\n",
       "       'lead_country', 'lead_intlstudent', 'lead_ethnicity', 'lead_gender',\n",
       "       'contact_city', 'inquiry_home_country', 'inquiry_mailing_country',\n",
       "       'inquiry_ethnicity', 'inquiry_gender', 'inquiry_langspokenathome',\n",
       "       'inquiry_opp_type', 'lead_createddate_FLS', 'source_type_FLS',\n",
       "       'source_FLS', 'source_group_FLS', 'source_stage_FLS',\n",
       "       'othersource_created_dt', 'source_type_FOS', 'source_FOS',\n",
       "       'source_group_FOS', 'source_stage_FOS'],\n",
       "      dtype='object')"
      ]
     },
     "execution_count": 14,
     "metadata": {},
     "output_type": "execute_result"
    }
   ],
   "source": [
    "# Renaming merged columns\n",
    "sources.columns.values[26:30] = ['source_type_FOS', 'source_FOS', 'source_group_FOS', 'source_stage_FOS']\n",
    "sources.columns"
   ]
  },
  {
   "cell_type": "code",
   "execution_count": 15,
   "id": "4a1960e9",
   "metadata": {},
   "outputs": [],
   "source": [
    "# SF_CASES\n",
    "df4 = pd.read_csv(r\"G:\\OMSA\\Practicum\\2021\\SF_Cases_Fall2021_Anonymized.csv\", encoding='latin-1')\n",
    "#df4.describe()\n",
    "df4['case_created_dt'] = pd.to_datetime(df4['case_created_dt'])\n",
    "#print(df2.dtypes)\n",
    "df4.sort_values(by='case_created_dt', ascending=True, inplace = True) \n",
    "df4.drop_duplicates(subset=['unique_id'], keep='first', inplace= True)\n",
    "#df4.head(10)"
   ]
  },
  {
   "cell_type": "code",
   "execution_count": 16,
   "id": "7a99276b",
   "metadata": {
    "scrolled": true
   },
   "outputs": [],
   "source": [
    "sources = pd.merge(sources, df4[['inquiry_id','case_created_dt', 'source_type', 'source', 'source_group']], on='inquiry_id', how='left', suffixes=(None,\"_FCS\"))\n",
    "#sources.describe()"
   ]
  },
  {
   "cell_type": "code",
   "execution_count": 17,
   "id": "f6a3f3f0",
   "metadata": {
    "scrolled": true
   },
   "outputs": [
    {
     "data": {
      "text/plain": [
       "Index(['Term_Group', 'unique_id', 'lead_id', 'inquiry_id', 'inquiry_opp_id',\n",
       "       'app_id', 'lead_createddate', 'contact_createddate', 'lead_city',\n",
       "       'lead_country', 'lead_intlstudent', 'lead_ethnicity', 'lead_gender',\n",
       "       'contact_city', 'inquiry_home_country', 'inquiry_mailing_country',\n",
       "       'inquiry_ethnicity', 'inquiry_gender', 'inquiry_langspokenathome',\n",
       "       'inquiry_opp_type', 'lead_createddate_FLS', 'source_type_FLS',\n",
       "       'source_FLS', 'source_group_FLS', 'source_stage_FLS',\n",
       "       'othersource_created_dt', 'source_type_FOS', 'source_FOS',\n",
       "       'source_group_FOS', 'source_stage_FOS', 'case_created_dt',\n",
       "       'source_type_FCS', 'source_FCS', 'source_group_FCS'],\n",
       "      dtype='object')"
      ]
     },
     "execution_count": 17,
     "metadata": {},
     "output_type": "execute_result"
    }
   ],
   "source": [
    "sources.columns.values[31:34] = ['source_type_FCS', 'source_FCS', 'source_group_FCS']\n",
    "sources.columns"
   ]
  },
  {
   "cell_type": "code",
   "execution_count": 18,
   "id": "7e963825",
   "metadata": {
    "scrolled": true
   },
   "outputs": [],
   "source": [
    "# SF_EVENTS\n",
    "df5 = pd.read_csv(r\"G:\\OMSA\\Practicum\\2021\\SF_Events_Fall2021_Anonymized.csv\", encoding='latin-1')\n",
    "#df5.describe()\n",
    "df5['event_start_date'] = pd.to_datetime(df5['event_start_date'])\n",
    "#print(df2.dtypes)\n",
    "df5.sort_values(by='event_start_date', ascending=True, inplace = True) \n",
    "df5.drop_duplicates(subset=['unique_id'], keep='first', inplace= True)\n",
    "#df5.head(10)"
   ]
  },
  {
   "cell_type": "code",
   "execution_count": 19,
   "id": "2c315015",
   "metadata": {
    "scrolled": true
   },
   "outputs": [],
   "source": [
    "sources = pd.merge(sources, df5[['inquiry_id','event_start_date', 'source_type', 'source', 'source_group']], on='inquiry_id', how='left', suffixes=(None,\"_FES\"))\n",
    "#sources.head()\n",
    "#sources.describe()"
   ]
  },
  {
   "cell_type": "code",
   "execution_count": 20,
   "id": "c93e7940",
   "metadata": {},
   "outputs": [
    {
     "data": {
      "text/plain": [
       "Index(['Term_Group', 'unique_id', 'lead_id', 'inquiry_id', 'inquiry_opp_id',\n",
       "       'app_id', 'lead_createddate', 'contact_createddate', 'lead_city',\n",
       "       'lead_country', 'lead_intlstudent', 'lead_ethnicity', 'lead_gender',\n",
       "       'contact_city', 'inquiry_home_country', 'inquiry_mailing_country',\n",
       "       'inquiry_ethnicity', 'inquiry_gender', 'inquiry_langspokenathome',\n",
       "       'inquiry_opp_type', 'lead_createddate_FLS', 'source_type_FLS',\n",
       "       'source_FLS', 'source_group_FLS', 'source_stage_FLS',\n",
       "       'othersource_created_dt', 'source_type_FOS', 'source_FOS',\n",
       "       'source_group_FOS', 'source_stage_FOS', 'case_created_dt',\n",
       "       'source_type_FCS', 'source_FCS', 'source_group_FCS', 'event_start_date',\n",
       "       'source_type', 'source', 'source_group'],\n",
       "      dtype='object')"
      ]
     },
     "execution_count": 20,
     "metadata": {},
     "output_type": "execute_result"
    }
   ],
   "source": [
    "sources.columns.values[35:38]\n",
    "sources.columns"
   ]
  },
  {
   "cell_type": "code",
   "execution_count": 21,
   "id": "a793c128",
   "metadata": {
    "scrolled": true
   },
   "outputs": [],
   "source": [
    "sources.rename(columns={'source_type': 'source_type_FES','source':'source_FES', 'source_group': 'source_group_FES'},inplace=True)\n",
    "#sources.columns.values[35:38] = ['source_type_FES', 'source_FES', 'source_group_FES']\n",
    "#sources.describe()"
   ]
  },
  {
   "cell_type": "code",
   "execution_count": 22,
   "id": "97438235",
   "metadata": {
    "scrolled": true
   },
   "outputs": [],
   "source": [
    "# PS_APP_DATA\n",
    "df6 = pd.read_csv(r\"G:\\OMSA\\Practicum\\2021\\App-UGRD_Master-Data_INTL_Fall2021_Anonymized.csv\", encoding='latin-1')\n",
    "#df6.describe()\n",
    "#df6.shape\n"
   ]
  },
  {
   "cell_type": "markdown",
   "id": "f16e1aed",
   "metadata": {},
   "source": [
    "# There are some duplicates: applicants with multiple applications. I will remove these and leave the earliest app for each unique app_id"
   ]
  },
  {
   "cell_type": "code",
   "execution_count": 23,
   "id": "957520d9",
   "metadata": {
    "scrolled": true
   },
   "outputs": [
    {
     "data": {
      "text/html": [
       "<div>\n",
       "<style scoped>\n",
       "    .dataframe tbody tr th:only-of-type {\n",
       "        vertical-align: middle;\n",
       "    }\n",
       "\n",
       "    .dataframe tbody tr th {\n",
       "        vertical-align: top;\n",
       "    }\n",
       "\n",
       "    .dataframe thead th {\n",
       "        text-align: right;\n",
       "    }\n",
       "</style>\n",
       "<table border=\"1\" class=\"dataframe\">\n",
       "  <thead>\n",
       "    <tr style=\"text-align: right;\">\n",
       "      <th></th>\n",
       "      <th>Term_Group</th>\n",
       "      <th>app_id</th>\n",
       "      <th>inquiry_id</th>\n",
       "      <th>inquiry_opp_id</th>\n",
       "      <th>acad_career</th>\n",
       "      <th>admit_type</th>\n",
       "      <th>asu_undergrad_status_code</th>\n",
       "      <th>student_type</th>\n",
       "      <th>application_status</th>\n",
       "      <th>app_count</th>\n",
       "      <th>...</th>\n",
       "      <th>visa_permit</th>\n",
       "      <th>intl_sponsored_flg</th>\n",
       "      <th>intl_financial_guarantee_flg</th>\n",
       "      <th>intl_remote</th>\n",
       "      <th>ielts_score</th>\n",
       "      <th>toefl_comp</th>\n",
       "      <th>det_score</th>\n",
       "      <th>move_to_online</th>\n",
       "      <th>common_app</th>\n",
       "      <th>defer_flag</th>\n",
       "    </tr>\n",
       "  </thead>\n",
       "  <tbody>\n",
       "    <tr>\n",
       "      <th>169</th>\n",
       "      <td>Fall 2021</td>\n",
       "      <td>gsvYXqkJjXwjXCTJn23lyw==</td>\n",
       "      <td>PLcUsh9d50+wL7kIxb26FpTsMhK3Xi2k</td>\n",
       "      <td>T8mRgQ9Ht2ElJDLRoIZyc4D6nMZJVTPr</td>\n",
       "      <td>UGRD</td>\n",
       "      <td>FTF</td>\n",
       "      <td>FTF</td>\n",
       "      <td>FTF</td>\n",
       "      <td>App Withdrawn</td>\n",
       "      <td>1</td>\n",
       "      <td>...</td>\n",
       "      <td>F1</td>\n",
       "      <td>N</td>\n",
       "      <td>Y</td>\n",
       "      <td>NaN</td>\n",
       "      <td>NaN</td>\n",
       "      <td>NaN</td>\n",
       "      <td>95.0</td>\n",
       "      <td>NaN</td>\n",
       "      <td>NaN</td>\n",
       "      <td>NaN</td>\n",
       "    </tr>\n",
       "    <tr>\n",
       "      <th>1009</th>\n",
       "      <td>Fall 2021</td>\n",
       "      <td>72AIQ6GOvyjDwTkCKXGGsg==</td>\n",
       "      <td>nFHSVKcnJ8mI1GSRhmSkrbgTU9dJS5Zi</td>\n",
       "      <td>HYyd53kUILKl405hi78x8+FcQdIFCaht</td>\n",
       "      <td>UGRD</td>\n",
       "      <td>FTF</td>\n",
       "      <td>FTF</td>\n",
       "      <td>FTF</td>\n",
       "      <td>Denied</td>\n",
       "      <td>1</td>\n",
       "      <td>...</td>\n",
       "      <td>F1</td>\n",
       "      <td>N</td>\n",
       "      <td>N</td>\n",
       "      <td>NaN</td>\n",
       "      <td>NaN</td>\n",
       "      <td>72.0</td>\n",
       "      <td>NaN</td>\n",
       "      <td>NaN</td>\n",
       "      <td>NaN</td>\n",
       "      <td>NaN</td>\n",
       "    </tr>\n",
       "    <tr>\n",
       "      <th>2470</th>\n",
       "      <td>Fall 2021</td>\n",
       "      <td>fC06Tc8ltjVZLfodHqQq+w==</td>\n",
       "      <td>PLcUsh9d5091EVy7a873dAQz9viJOZr3</td>\n",
       "      <td>T8mRgQ9Ht2GuHbinC9akoWN363HsCuJD</td>\n",
       "      <td>UGRD</td>\n",
       "      <td>FTF</td>\n",
       "      <td>FTF</td>\n",
       "      <td>FTF</td>\n",
       "      <td>Admitted - Active</td>\n",
       "      <td>1</td>\n",
       "      <td>...</td>\n",
       "      <td>H4</td>\n",
       "      <td>N</td>\n",
       "      <td>N</td>\n",
       "      <td>NaN</td>\n",
       "      <td>NaN</td>\n",
       "      <td>NaN</td>\n",
       "      <td>NaN</td>\n",
       "      <td>NaN</td>\n",
       "      <td>NaN</td>\n",
       "      <td>NaN</td>\n",
       "    </tr>\n",
       "    <tr>\n",
       "      <th>2472</th>\n",
       "      <td>Fall 2021</td>\n",
       "      <td>4ls43vW0g6yT2gNos7gtgw==</td>\n",
       "      <td>PLcUsh9d5093X7Gz+tyoKwCsEidR6fmm</td>\n",
       "      <td>T8mRgQ9Ht2F470OGLlYOuuOiI4Rnu44S</td>\n",
       "      <td>UGRD</td>\n",
       "      <td>FTF</td>\n",
       "      <td>FTF</td>\n",
       "      <td>FTF</td>\n",
       "      <td>Enrolled</td>\n",
       "      <td>1</td>\n",
       "      <td>...</td>\n",
       "      <td>F1</td>\n",
       "      <td>N</td>\n",
       "      <td>Y</td>\n",
       "      <td>NaN</td>\n",
       "      <td>NaN</td>\n",
       "      <td>82.0</td>\n",
       "      <td>NaN</td>\n",
       "      <td>NaN</td>\n",
       "      <td>NaN</td>\n",
       "      <td>1.0</td>\n",
       "    </tr>\n",
       "    <tr>\n",
       "      <th>2474</th>\n",
       "      <td>Fall 2021</td>\n",
       "      <td>FuWcuRVKyVqnzL6lj4X+Ng==</td>\n",
       "      <td>PLcUsh9d5087W3KDGMMio1r0asaFAQSG</td>\n",
       "      <td>T8mRgQ9Ht2HsJkKSZFt3YxXC92CiuX0N</td>\n",
       "      <td>UGRD</td>\n",
       "      <td>FTF</td>\n",
       "      <td>FTF</td>\n",
       "      <td>FTF</td>\n",
       "      <td>Admitted - Active</td>\n",
       "      <td>1</td>\n",
       "      <td>...</td>\n",
       "      <td>F1</td>\n",
       "      <td>N</td>\n",
       "      <td>Y</td>\n",
       "      <td>NaN</td>\n",
       "      <td>NaN</td>\n",
       "      <td>NaN</td>\n",
       "      <td>NaN</td>\n",
       "      <td>NaN</td>\n",
       "      <td>1.0</td>\n",
       "      <td>NaN</td>\n",
       "    </tr>\n",
       "    <tr>\n",
       "      <th>2476</th>\n",
       "      <td>Fall 2021</td>\n",
       "      <td>MLp6an/NRidpz5Cbs13fGw==</td>\n",
       "      <td>PLcUsh9d50/DWnsiE58AgRfS5OCm40Hb</td>\n",
       "      <td>T8mRgQ9Ht2HpD2KSjTH/SGqrM0WDX24r</td>\n",
       "      <td>UGRD</td>\n",
       "      <td>FTF</td>\n",
       "      <td>FTF</td>\n",
       "      <td>FTF</td>\n",
       "      <td>Admitted - Active</td>\n",
       "      <td>1</td>\n",
       "      <td>...</td>\n",
       "      <td>F1</td>\n",
       "      <td>N</td>\n",
       "      <td>Y</td>\n",
       "      <td>NaN</td>\n",
       "      <td>6.0</td>\n",
       "      <td>NaN</td>\n",
       "      <td>NaN</td>\n",
       "      <td>NaN</td>\n",
       "      <td>NaN</td>\n",
       "      <td>NaN</td>\n",
       "    </tr>\n",
       "    <tr>\n",
       "      <th>2478</th>\n",
       "      <td>Fall 2021</td>\n",
       "      <td>uAK12BW66MHbYgsa/owcNw==</td>\n",
       "      <td>PLcUsh9d50+NF/cJDOOiDslZHSPQbAlf</td>\n",
       "      <td>T8mRgQ9Ht2GBFySr5wNtW8zylex3ZCmQ</td>\n",
       "      <td>UGRD</td>\n",
       "      <td>FTF</td>\n",
       "      <td>FTF</td>\n",
       "      <td>FTF</td>\n",
       "      <td>Application Received - Incomplete</td>\n",
       "      <td>1</td>\n",
       "      <td>...</td>\n",
       "      <td>F1</td>\n",
       "      <td>N</td>\n",
       "      <td>N</td>\n",
       "      <td>NaN</td>\n",
       "      <td>NaN</td>\n",
       "      <td>NaN</td>\n",
       "      <td>NaN</td>\n",
       "      <td>NaN</td>\n",
       "      <td>NaN</td>\n",
       "      <td>NaN</td>\n",
       "    </tr>\n",
       "    <tr>\n",
       "      <th>2480</th>\n",
       "      <td>Fall 2021</td>\n",
       "      <td>gg/JwqUhVK4oEEchI7PEsg==</td>\n",
       "      <td>PLcUsh9d508oeLQlMaYNpA4pHRPYL7HI</td>\n",
       "      <td>T8mRgQ9Ht2E90LAXOKu8WndZpVsfwEO8</td>\n",
       "      <td>UGRD</td>\n",
       "      <td>FTF</td>\n",
       "      <td>FTF</td>\n",
       "      <td>FTF</td>\n",
       "      <td>Admitted - Active</td>\n",
       "      <td>1</td>\n",
       "      <td>...</td>\n",
       "      <td>F1</td>\n",
       "      <td>N</td>\n",
       "      <td>Y</td>\n",
       "      <td>NaN</td>\n",
       "      <td>NaN</td>\n",
       "      <td>76.0</td>\n",
       "      <td>NaN</td>\n",
       "      <td>NaN</td>\n",
       "      <td>NaN</td>\n",
       "      <td>NaN</td>\n",
       "    </tr>\n",
       "    <tr>\n",
       "      <th>2482</th>\n",
       "      <td>Fall 2021</td>\n",
       "      <td>Uy3x3HVQ2xqYp4JEFJLEog==</td>\n",
       "      <td>PLcUsh9d508WKlA6yzuSgT+lMHk5mSj7</td>\n",
       "      <td>T8mRgQ9Ht2Et6u8J+Op4lQ7/VqXqfkuK</td>\n",
       "      <td>UGRD</td>\n",
       "      <td>FTF</td>\n",
       "      <td>FTF</td>\n",
       "      <td>FTF</td>\n",
       "      <td>Denied</td>\n",
       "      <td>1</td>\n",
       "      <td>...</td>\n",
       "      <td>F1</td>\n",
       "      <td>N</td>\n",
       "      <td>N</td>\n",
       "      <td>NaN</td>\n",
       "      <td>NaN</td>\n",
       "      <td>61.0</td>\n",
       "      <td>NaN</td>\n",
       "      <td>NaN</td>\n",
       "      <td>NaN</td>\n",
       "      <td>NaN</td>\n",
       "    </tr>\n",
       "    <tr>\n",
       "      <th>2572</th>\n",
       "      <td>Fall 2021</td>\n",
       "      <td>c1gnaBdHrluExYBfXFgRww==</td>\n",
       "      <td>PLcUsh9d50/NxiDsZDkhgwYhMQrtjV0D</td>\n",
       "      <td>T8mRgQ9Ht2FGEnsJKNXR+ZBkPo4zxUzz</td>\n",
       "      <td>UGRD</td>\n",
       "      <td>FTF</td>\n",
       "      <td>FTF</td>\n",
       "      <td>FTF</td>\n",
       "      <td>Enrolled</td>\n",
       "      <td>0</td>\n",
       "      <td>...</td>\n",
       "      <td>F1</td>\n",
       "      <td>N</td>\n",
       "      <td>Y</td>\n",
       "      <td>NaN</td>\n",
       "      <td>NaN</td>\n",
       "      <td>66.0</td>\n",
       "      <td>120.0</td>\n",
       "      <td>NaN</td>\n",
       "      <td>NaN</td>\n",
       "      <td>1.0</td>\n",
       "    </tr>\n",
       "    <tr>\n",
       "      <th>5327</th>\n",
       "      <td>Fall 2021</td>\n",
       "      <td>5CYeI1m5YAPy81AI3qv4KA==</td>\n",
       "      <td>PLcUsh9d509+b8vUD5dXAcXceNfxvcUV</td>\n",
       "      <td>T8mRgQ9Ht2Hji/q6kdv7wNSQegT1O7DX</td>\n",
       "      <td>UGRD</td>\n",
       "      <td>FTF</td>\n",
       "      <td>FTF</td>\n",
       "      <td>FTF</td>\n",
       "      <td>Admitted - Active</td>\n",
       "      <td>0</td>\n",
       "      <td>...</td>\n",
       "      <td>F1</td>\n",
       "      <td>Y</td>\n",
       "      <td>Y</td>\n",
       "      <td>NaN</td>\n",
       "      <td>NaN</td>\n",
       "      <td>NaN</td>\n",
       "      <td>105.0</td>\n",
       "      <td>NaN</td>\n",
       "      <td>NaN</td>\n",
       "      <td>1.0</td>\n",
       "    </tr>\n",
       "    <tr>\n",
       "      <th>5887</th>\n",
       "      <td>Fall 2021</td>\n",
       "      <td>0XSnCG99ZCZMFknj+MTTEg==</td>\n",
       "      <td>nFHSVKcnJ8mdPnDXtGBBSlX+WgGydA0u</td>\n",
       "      <td>HYyd53kUILLgyCTVPstvVWeNf21xhqCo</td>\n",
       "      <td>UGRD</td>\n",
       "      <td>NDG</td>\n",
       "      <td>NDG</td>\n",
       "      <td>NDG</td>\n",
       "      <td>Application Received - Incomplete</td>\n",
       "      <td>1</td>\n",
       "      <td>...</td>\n",
       "      <td>JN</td>\n",
       "      <td>N</td>\n",
       "      <td>N</td>\n",
       "      <td>NaN</td>\n",
       "      <td>NaN</td>\n",
       "      <td>NaN</td>\n",
       "      <td>NaN</td>\n",
       "      <td>NaN</td>\n",
       "      <td>NaN</td>\n",
       "      <td>NaN</td>\n",
       "    </tr>\n",
       "    <tr>\n",
       "      <th>5975</th>\n",
       "      <td>Fall 2021</td>\n",
       "      <td>Mab5w36eC0c0PEzul/cgJA==</td>\n",
       "      <td>PLcUsh9d5081mUBXu1YziZts782wR+yO</td>\n",
       "      <td>T8mRgQ9Ht2Htoy4yLQAaDix5O6Ev/g6u</td>\n",
       "      <td>UGRD</td>\n",
       "      <td>FTF</td>\n",
       "      <td>FTF</td>\n",
       "      <td>FTF</td>\n",
       "      <td>Admitted - Conditional</td>\n",
       "      <td>1</td>\n",
       "      <td>...</td>\n",
       "      <td>F1</td>\n",
       "      <td>Y</td>\n",
       "      <td>Y</td>\n",
       "      <td>NaN</td>\n",
       "      <td>NaN</td>\n",
       "      <td>NaN</td>\n",
       "      <td>NaN</td>\n",
       "      <td>NaN</td>\n",
       "      <td>NaN</td>\n",
       "      <td>NaN</td>\n",
       "    </tr>\n",
       "    <tr>\n",
       "      <th>7603</th>\n",
       "      <td>Fall 2021</td>\n",
       "      <td>bf9wr+/gcnvljmwQ8PqPyA==</td>\n",
       "      <td>PLcUsh9d50+F1YCFgfTqXYSGXyIFZIYC</td>\n",
       "      <td>T8mRgQ9Ht2ENedhWJW9qPEYtj0hAluPe</td>\n",
       "      <td>UGRD</td>\n",
       "      <td>FTF</td>\n",
       "      <td>FTF</td>\n",
       "      <td>FTF</td>\n",
       "      <td>Admitted - Conditional</td>\n",
       "      <td>1</td>\n",
       "      <td>...</td>\n",
       "      <td>F1</td>\n",
       "      <td>N</td>\n",
       "      <td>Y</td>\n",
       "      <td>NaN</td>\n",
       "      <td>NaN</td>\n",
       "      <td>NaN</td>\n",
       "      <td>NaN</td>\n",
       "      <td>NaN</td>\n",
       "      <td>NaN</td>\n",
       "      <td>NaN</td>\n",
       "    </tr>\n",
       "    <tr>\n",
       "      <th>9234</th>\n",
       "      <td>Fall 2021</td>\n",
       "      <td>rhhiixBcMSvF+Lk+yJ/tvA==</td>\n",
       "      <td>PLcUsh9d50/hzKhSOyS+ikW97pxMj04h</td>\n",
       "      <td>T8mRgQ9Ht2FI7fsD8m4lYTO92Sj8/13h</td>\n",
       "      <td>UGRD</td>\n",
       "      <td>TRN</td>\n",
       "      <td>TRN</td>\n",
       "      <td>TRN</td>\n",
       "      <td>Withdrawn</td>\n",
       "      <td>0</td>\n",
       "      <td>...</td>\n",
       "      <td>F1</td>\n",
       "      <td>N</td>\n",
       "      <td>Y</td>\n",
       "      <td>NaN</td>\n",
       "      <td>7.0</td>\n",
       "      <td>NaN</td>\n",
       "      <td>NaN</td>\n",
       "      <td>NaN</td>\n",
       "      <td>NaN</td>\n",
       "      <td>NaN</td>\n",
       "    </tr>\n",
       "    <tr>\n",
       "      <th>9927</th>\n",
       "      <td>Fall 2021</td>\n",
       "      <td>Eenj3WtMryGeBEj5qEVhHw==</td>\n",
       "      <td>PLcUsh9d50/q7w0LghkRyQ/HYJVOODsA</td>\n",
       "      <td>HYyd53kUILKc/i1eV0hqqguF1Y+zf825</td>\n",
       "      <td>UGRD</td>\n",
       "      <td>FTF</td>\n",
       "      <td>FTF</td>\n",
       "      <td>FTF</td>\n",
       "      <td>Admitted - Active</td>\n",
       "      <td>1</td>\n",
       "      <td>...</td>\n",
       "      <td>F1</td>\n",
       "      <td>N</td>\n",
       "      <td>Y</td>\n",
       "      <td>NaN</td>\n",
       "      <td>NaN</td>\n",
       "      <td>NaN</td>\n",
       "      <td>NaN</td>\n",
       "      <td>NaN</td>\n",
       "      <td>1.0</td>\n",
       "      <td>NaN</td>\n",
       "    </tr>\n",
       "    <tr>\n",
       "      <th>10099</th>\n",
       "      <td>Fall 2021</td>\n",
       "      <td>kCc3yqW/jsxh96dMzDqRtw==</td>\n",
       "      <td>PLcUsh9d50/nF+2Td2E/ad0G5Ft26egv</td>\n",
       "      <td>HYyd53kUILJCIOR/iP805r9DPMSuo3Wx</td>\n",
       "      <td>UGRD</td>\n",
       "      <td>TRN</td>\n",
       "      <td>TRN</td>\n",
       "      <td>TRN</td>\n",
       "      <td>Admitted - Active</td>\n",
       "      <td>1</td>\n",
       "      <td>...</td>\n",
       "      <td>F1</td>\n",
       "      <td>N</td>\n",
       "      <td>Y</td>\n",
       "      <td>NaN</td>\n",
       "      <td>6.0</td>\n",
       "      <td>NaN</td>\n",
       "      <td>NaN</td>\n",
       "      <td>NaN</td>\n",
       "      <td>NaN</td>\n",
       "      <td>NaN</td>\n",
       "    </tr>\n",
       "  </tbody>\n",
       "</table>\n",
       "<p>17 rows × 75 columns</p>\n",
       "</div>"
      ],
      "text/plain": [
       "      Term_Group                    app_id                        inquiry_id  \\\n",
       "169    Fall 2021  gsvYXqkJjXwjXCTJn23lyw==  PLcUsh9d50+wL7kIxb26FpTsMhK3Xi2k   \n",
       "1009   Fall 2021  72AIQ6GOvyjDwTkCKXGGsg==  nFHSVKcnJ8mI1GSRhmSkrbgTU9dJS5Zi   \n",
       "2470   Fall 2021  fC06Tc8ltjVZLfodHqQq+w==  PLcUsh9d5091EVy7a873dAQz9viJOZr3   \n",
       "2472   Fall 2021  4ls43vW0g6yT2gNos7gtgw==  PLcUsh9d5093X7Gz+tyoKwCsEidR6fmm   \n",
       "2474   Fall 2021  FuWcuRVKyVqnzL6lj4X+Ng==  PLcUsh9d5087W3KDGMMio1r0asaFAQSG   \n",
       "2476   Fall 2021  MLp6an/NRidpz5Cbs13fGw==  PLcUsh9d50/DWnsiE58AgRfS5OCm40Hb   \n",
       "2478   Fall 2021  uAK12BW66MHbYgsa/owcNw==  PLcUsh9d50+NF/cJDOOiDslZHSPQbAlf   \n",
       "2480   Fall 2021  gg/JwqUhVK4oEEchI7PEsg==  PLcUsh9d508oeLQlMaYNpA4pHRPYL7HI   \n",
       "2482   Fall 2021  Uy3x3HVQ2xqYp4JEFJLEog==  PLcUsh9d508WKlA6yzuSgT+lMHk5mSj7   \n",
       "2572   Fall 2021  c1gnaBdHrluExYBfXFgRww==  PLcUsh9d50/NxiDsZDkhgwYhMQrtjV0D   \n",
       "5327   Fall 2021  5CYeI1m5YAPy81AI3qv4KA==  PLcUsh9d509+b8vUD5dXAcXceNfxvcUV   \n",
       "5887   Fall 2021  0XSnCG99ZCZMFknj+MTTEg==  nFHSVKcnJ8mdPnDXtGBBSlX+WgGydA0u   \n",
       "5975   Fall 2021  Mab5w36eC0c0PEzul/cgJA==  PLcUsh9d5081mUBXu1YziZts782wR+yO   \n",
       "7603   Fall 2021  bf9wr+/gcnvljmwQ8PqPyA==  PLcUsh9d50+F1YCFgfTqXYSGXyIFZIYC   \n",
       "9234   Fall 2021  rhhiixBcMSvF+Lk+yJ/tvA==  PLcUsh9d50/hzKhSOyS+ikW97pxMj04h   \n",
       "9927   Fall 2021  Eenj3WtMryGeBEj5qEVhHw==  PLcUsh9d50/q7w0LghkRyQ/HYJVOODsA   \n",
       "10099  Fall 2021  kCc3yqW/jsxh96dMzDqRtw==  PLcUsh9d50/nF+2Td2E/ad0G5Ft26egv   \n",
       "\n",
       "                         inquiry_opp_id acad_career admit_type  \\\n",
       "169    T8mRgQ9Ht2ElJDLRoIZyc4D6nMZJVTPr        UGRD        FTF   \n",
       "1009   HYyd53kUILKl405hi78x8+FcQdIFCaht        UGRD        FTF   \n",
       "2470   T8mRgQ9Ht2GuHbinC9akoWN363HsCuJD        UGRD        FTF   \n",
       "2472   T8mRgQ9Ht2F470OGLlYOuuOiI4Rnu44S        UGRD        FTF   \n",
       "2474   T8mRgQ9Ht2HsJkKSZFt3YxXC92CiuX0N        UGRD        FTF   \n",
       "2476   T8mRgQ9Ht2HpD2KSjTH/SGqrM0WDX24r        UGRD        FTF   \n",
       "2478   T8mRgQ9Ht2GBFySr5wNtW8zylex3ZCmQ        UGRD        FTF   \n",
       "2480   T8mRgQ9Ht2E90LAXOKu8WndZpVsfwEO8        UGRD        FTF   \n",
       "2482   T8mRgQ9Ht2Et6u8J+Op4lQ7/VqXqfkuK        UGRD        FTF   \n",
       "2572   T8mRgQ9Ht2FGEnsJKNXR+ZBkPo4zxUzz        UGRD        FTF   \n",
       "5327   T8mRgQ9Ht2Hji/q6kdv7wNSQegT1O7DX        UGRD        FTF   \n",
       "5887   HYyd53kUILLgyCTVPstvVWeNf21xhqCo        UGRD        NDG   \n",
       "5975   T8mRgQ9Ht2Htoy4yLQAaDix5O6Ev/g6u        UGRD        FTF   \n",
       "7603   T8mRgQ9Ht2ENedhWJW9qPEYtj0hAluPe        UGRD        FTF   \n",
       "9234   T8mRgQ9Ht2FI7fsD8m4lYTO92Sj8/13h        UGRD        TRN   \n",
       "9927   HYyd53kUILKc/i1eV0hqqguF1Y+zf825        UGRD        FTF   \n",
       "10099  HYyd53kUILJCIOR/iP805r9DPMSuo3Wx        UGRD        TRN   \n",
       "\n",
       "      asu_undergrad_status_code student_type  \\\n",
       "169                         FTF          FTF   \n",
       "1009                        FTF          FTF   \n",
       "2470                        FTF          FTF   \n",
       "2472                        FTF          FTF   \n",
       "2474                        FTF          FTF   \n",
       "2476                        FTF          FTF   \n",
       "2478                        FTF          FTF   \n",
       "2480                        FTF          FTF   \n",
       "2482                        FTF          FTF   \n",
       "2572                        FTF          FTF   \n",
       "5327                        FTF          FTF   \n",
       "5887                        NDG          NDG   \n",
       "5975                        FTF          FTF   \n",
       "7603                        FTF          FTF   \n",
       "9234                        TRN          TRN   \n",
       "9927                        FTF          FTF   \n",
       "10099                       TRN          TRN   \n",
       "\n",
       "                      application_status  app_count  ...  visa_permit  \\\n",
       "169                        App Withdrawn          1  ...           F1   \n",
       "1009                              Denied          1  ...           F1   \n",
       "2470                   Admitted - Active          1  ...           H4   \n",
       "2472                            Enrolled          1  ...           F1   \n",
       "2474                   Admitted - Active          1  ...           F1   \n",
       "2476                   Admitted - Active          1  ...           F1   \n",
       "2478   Application Received - Incomplete          1  ...           F1   \n",
       "2480                   Admitted - Active          1  ...           F1   \n",
       "2482                              Denied          1  ...           F1   \n",
       "2572                            Enrolled          0  ...           F1   \n",
       "5327                   Admitted - Active          0  ...           F1   \n",
       "5887   Application Received - Incomplete          1  ...           JN   \n",
       "5975              Admitted - Conditional          1  ...           F1   \n",
       "7603              Admitted - Conditional          1  ...           F1   \n",
       "9234                           Withdrawn          0  ...           F1   \n",
       "9927                   Admitted - Active          1  ...           F1   \n",
       "10099                  Admitted - Active          1  ...           F1   \n",
       "\n",
       "       intl_sponsored_flg intl_financial_guarantee_flg  intl_remote  \\\n",
       "169                     N                            Y          NaN   \n",
       "1009                    N                            N          NaN   \n",
       "2470                    N                            N          NaN   \n",
       "2472                    N                            Y          NaN   \n",
       "2474                    N                            Y          NaN   \n",
       "2476                    N                            Y          NaN   \n",
       "2478                    N                            N          NaN   \n",
       "2480                    N                            Y          NaN   \n",
       "2482                    N                            N          NaN   \n",
       "2572                    N                            Y          NaN   \n",
       "5327                    Y                            Y          NaN   \n",
       "5887                    N                            N          NaN   \n",
       "5975                    Y                            Y          NaN   \n",
       "7603                    N                            Y          NaN   \n",
       "9234                    N                            Y          NaN   \n",
       "9927                    N                            Y          NaN   \n",
       "10099                   N                            Y          NaN   \n",
       "\n",
       "       ielts_score  toefl_comp  det_score move_to_online  common_app  \\\n",
       "169            NaN         NaN       95.0            NaN         NaN   \n",
       "1009           NaN        72.0        NaN            NaN         NaN   \n",
       "2470           NaN         NaN        NaN            NaN         NaN   \n",
       "2472           NaN        82.0        NaN            NaN         NaN   \n",
       "2474           NaN         NaN        NaN            NaN         1.0   \n",
       "2476           6.0         NaN        NaN            NaN         NaN   \n",
       "2478           NaN         NaN        NaN            NaN         NaN   \n",
       "2480           NaN        76.0        NaN            NaN         NaN   \n",
       "2482           NaN        61.0        NaN            NaN         NaN   \n",
       "2572           NaN        66.0      120.0            NaN         NaN   \n",
       "5327           NaN         NaN      105.0            NaN         NaN   \n",
       "5887           NaN         NaN        NaN            NaN         NaN   \n",
       "5975           NaN         NaN        NaN            NaN         NaN   \n",
       "7603           NaN         NaN        NaN            NaN         NaN   \n",
       "9234           7.0         NaN        NaN            NaN         NaN   \n",
       "9927           NaN         NaN        NaN            NaN         1.0   \n",
       "10099          6.0         NaN        NaN            NaN         NaN   \n",
       "\n",
       "       defer_flag  \n",
       "169           NaN  \n",
       "1009          NaN  \n",
       "2470          NaN  \n",
       "2472          1.0  \n",
       "2474          NaN  \n",
       "2476          NaN  \n",
       "2478          NaN  \n",
       "2480          NaN  \n",
       "2482          NaN  \n",
       "2572          1.0  \n",
       "5327          1.0  \n",
       "5887          NaN  \n",
       "5975          NaN  \n",
       "7603          NaN  \n",
       "9234          NaN  \n",
       "9927          NaN  \n",
       "10099         NaN  \n",
       "\n",
       "[17 rows x 75 columns]"
      ]
     },
     "execution_count": 23,
     "metadata": {},
     "output_type": "execute_result"
    }
   ],
   "source": [
    "len(df6['app_id'].unique())\n",
    "df6[df6.duplicated('app_id')]\n",
    "#df6.info()\n",
    "#df6.shape"
   ]
  },
  {
   "cell_type": "code",
   "execution_count": 24,
   "id": "94422170",
   "metadata": {
    "scrolled": true
   },
   "outputs": [],
   "source": [
    "# Dropping dupes and checking size\n",
    "df6['application_date'] = pd.to_datetime(df6['application_date'])\n",
    "#print(df2.dtypes)\n",
    "df6.sort_values(by='application_date', ascending=True, inplace = True) \n",
    "df6.drop_duplicates(subset=['app_id'], keep='first', inplace= True)\n",
    "#df6.shape"
   ]
  },
  {
   "cell_type": "code",
   "execution_count": 25,
   "id": "b8afd43d",
   "metadata": {
    "scrolled": true
   },
   "outputs": [],
   "source": [
    "sources = pd.merge(sources, df6[['app_id','application_date']], on='app_id', how='left')\n",
    "#sources.describe()"
   ]
  },
  {
   "cell_type": "code",
   "execution_count": 26,
   "id": "0c44ad1f",
   "metadata": {},
   "outputs": [
    {
     "data": {
      "text/plain": [
       "(10321, 75)"
      ]
     },
     "execution_count": 26,
     "metadata": {},
     "output_type": "execute_result"
    }
   ],
   "source": [
    "df6.shape"
   ]
  },
  {
   "cell_type": "code",
   "execution_count": 27,
   "id": "55609293",
   "metadata": {},
   "outputs": [],
   "source": [
    "sources.to_csv(\"Sources2021.csv\", index=False)"
   ]
  },
  {
   "cell_type": "code",
   "execution_count": 28,
   "id": "e339ced1",
   "metadata": {
    "scrolled": true
   },
   "outputs": [],
   "source": [
    "pd.set_option(\"display.max_rows\", 999)\n",
    "pd.set_option(\"display.max_columns\", 999)\n",
    "pd.options.display.max_seq_items = 2000\n",
    "# apps = pd.merge(df6, sources, on='app_id', how='left', suffixes=(None,\"_Y\"))\n",
    "# apps.to_csv(\"Apps2021.csv\")"
   ]
  },
  {
   "cell_type": "code",
   "execution_count": 29,
   "id": "a0e92a7f",
   "metadata": {},
   "outputs": [],
   "source": [
    "#df = pd.read_csv(r\"G:\\OMSA\\Practicum\\2021\\SF_Leads-Inqs_Base_Fall2021_Anonymized.csv\")"
   ]
  },
  {
   "cell_type": "code",
   "execution_count": 30,
   "id": "6f5aab78",
   "metadata": {
    "scrolled": true
   },
   "outputs": [],
   "source": [
    "#df.inquiry_opp_type.value_counts(dropna=False)"
   ]
  },
  {
   "cell_type": "code",
   "execution_count": 31,
   "id": "27b7f0f3",
   "metadata": {
    "scrolled": true
   },
   "outputs": [],
   "source": [
    "#df['inquiry_opp_type'].isnull() & df['lead_createddate'].notnull()"
   ]
  },
  {
   "cell_type": "code",
   "execution_count": 32,
   "id": "f64ea5dd",
   "metadata": {
    "scrolled": true
   },
   "outputs": [],
   "source": [
    "#len(df[df['inquiry_opp_type'].isnull() & df['lead_createddate'].notnull()])"
   ]
  },
  {
   "cell_type": "code",
   "execution_count": 33,
   "id": "f1d48c20",
   "metadata": {},
   "outputs": [],
   "source": [
    "#len(sources['inquiry_opp_type'].isnull() & sources['lead_createddate'].notnull())"
   ]
  },
  {
   "cell_type": "code",
   "execution_count": 34,
   "id": "f5831d15",
   "metadata": {},
   "outputs": [],
   "source": [
    "# options = ['First Time Freshman', 'Transfer'] \n",
    "  \n",
    "# # selecting rows based on condition - Only Freshman and TRN students\n",
    "# sources2021 = sources2021[sources2021['inquiry_opp_type'].isin(options)]\n",
    "# #sources2021.inquiry_opp_type.unique()\n",
    "# sources2021.head()"
   ]
  },
  {
   "cell_type": "code",
   "execution_count": 35,
   "id": "04473557",
   "metadata": {},
   "outputs": [
    {
     "name": "stderr",
     "output_type": "stream",
     "text": [
      "C:\\Users\\GG\\AppData\\Local\\Temp\\ipykernel_13056\\1203750463.py:3: DtypeWarning: Columns (3,4,5,7,10,13,14,15,16,17,18,19,25,26,27,28,29,30,31,32,33,34,35,36,37,38) have mixed types. Specify dtype option on import or set low_memory=False.\n",
      "  sources2021 = pd.read_csv(r\"G:\\OMSA\\Practicum\\2021\\Sources2021.csv\", encoding='latin-1')\n"
     ]
    }
   ],
   "source": [
    "# Filtering by earliest datetime column among 4 dates\n",
    "\n",
    "sources2021 = pd.read_csv(r\"G:\\OMSA\\Practicum\\2021\\Sources2021.csv\", encoding='latin-1')\n",
    "sources2021.inquiry_opp_type.value_counts(dropna=False)\n",
    "\n",
    "# Casting columns to datetime\n",
    "sources2021[['lead_createddate', 'contact_createddate','application_date', 'event_start_date', 'case_created_dt', 'othersource_created_dt', 'lead_createddate_FLS']] = sources2021[['lead_createddate', 'contact_createddate','application_date', 'event_start_date', 'case_created_dt', 'othersource_created_dt', 'lead_createddate_FLS']].apply(pd.to_datetime)#, format='%Y/%m%d %H:%M')\n",
    "\n",
    "#print(sources2021.dtypes)\n",
    "\n",
    "#sources2021.sample(20)\n",
    "\n",
    "sources2021['first_date'] = (sources2021[['application_date', 'event_start_date', 'case_created_dt', 'othersource_created_dt', 'lead_createddate_FLS']]\n",
    "             .apply(pd.to_datetime)\n",
    "             .min(axis=1))   # <-- difference here\n",
    "             #.dt.strftime('%Y-%m-%dT%H:%M:%S')\n",
    "#sources2021.sample(30)\n",
    "\n",
    "#sources2021.info()"
   ]
  },
  {
   "cell_type": "code",
   "execution_count": 36,
   "id": "abe7694d",
   "metadata": {},
   "outputs": [],
   "source": [
    "# Creating new columns to store TRUE FIRST SOURCE values\n",
    "sources2021[['first_source_type','first_source','first_source_group','first_source_stage']] = None\n",
    "\n",
    "# SF_Leads\n",
    "mask1 = sources2021['lead_createddate_FLS'] == sources2021['first_date']\n",
    "sources2021['first_source'] =  np.where(mask1, sources2021['source_FLS'], sources2021['first_source'])\n",
    "sources2021['first_source_type'] =  np.where(mask1, sources2021['source_type_FLS'], sources2021['first_source_type'])\n",
    "sources2021['first_source_group'] =  np.where(mask1, sources2021['source_group_FLS'], sources2021['first_source_group'])\n",
    "sources2021['first_source_stage'] =  np.where(mask1, sources2021['source_stage_FLS'], sources2021['first_source_stage'])                                                      \n",
    "\n",
    "# SF_Other Sources\n",
    "mask2 = sources2021['othersource_created_dt'] == sources2021['first_date']\n",
    "sources2021['first_source'] =  np.where(mask2, sources2021['source_FOS'], sources2021['first_source'])\n",
    "sources2021['first_source_type'] =  np.where(mask2, sources2021['source_type_FOS'], sources2021['first_source_type'])\n",
    "sources2021['first_source_group'] =  np.where(mask2, sources2021['source_group_FOS'], sources2021['first_source_group'])\n",
    "sources2021['first_source_stage'] =  np.where(mask2, sources2021['source_stage_FOS'], sources2021['first_source_stage'])      \n",
    "\n",
    "# SF_Cases\n",
    "mask3 = sources2021['case_created_dt'] == sources2021['first_date']\n",
    "sources2021['first_source'] =  np.where(mask3, sources2021['source_FCS'], sources2021['first_source'])\n",
    "sources2021['first_source_type'] =  np.where(mask3, sources2021['source_type_FCS'], sources2021['first_source_type'])\n",
    "sources2021['first_source_group'] =  np.where(mask3, sources2021['source_group_FCS'], sources2021['first_source_group'])\n",
    "  \n",
    "#SF_Events\n",
    "mask4 = sources2021['event_start_date'] == sources2021['first_date']\n",
    "sources2021['first_source'] =  np.where(mask4, sources2021['source_FES'], sources2021['first_source'])\n",
    "sources2021['first_source_type'] =  np.where(mask4, sources2021['source_type_FES'], sources2021['first_source_type'])\n",
    "sources2021['first_source_group'] =  np.where(mask4, sources2021['source_group_FES'], sources2021['first_source_group'])   \n",
    "\n",
    "#Marking Stealth Apps\n",
    "mask5 = sources2021['application_date'] == sources2021['first_date']\n",
    "sources2021['first_source'] =  np.where(mask5, \"Stealth App\", sources2021['first_source'])\n",
    "sources2021['first_source_type'] =  np.where(mask5, \"Stealth App\", sources2021['first_source_type'])\n",
    "\n",
    "pd.set_option(\"display.max_rows\", 30)\n",
    "sources2021.sample(30)     \n",
    "\n",
    "sources2021.to_csv(\"Sources2021NEW.csv\", index=False)\n",
    "\n",
    "\n",
    "\n",
    "\n",
    "\n",
    "\n"
   ]
  },
  {
   "cell_type": "code",
   "execution_count": 37,
   "id": "0445b724",
   "metadata": {},
   "outputs": [
    {
     "data": {
      "text/plain": [
       "inquiry_opp_type\n",
       "Masters                188\n",
       "First Time Freshman    140\n",
       "Transfer                49\n",
       "Doctoral                 4\n",
       "Other                    3\n",
       "Readmission              2\n",
       "Doctorate                1\n",
       "Name: count, dtype: int64"
      ]
     },
     "execution_count": 37,
     "metadata": {},
     "output_type": "execute_result"
    }
   ],
   "source": [
    "mask8 =sources2021['app_id'].notnull() & sources2021['contact_createddate'].notnull() & sources2021['first_date'].isnull() & sources2021['inquiry_opp_type'].notnull()\n",
    "\n",
    "temp = sources2021[mask8]\n",
    "\n",
    "temp['inquiry_opp_type'].value_counts()\n",
    "\n",
    "\n",
    "mask8 = sources2021['lead_createddate'].notnull() & sources2021['contact_createddate'].notnull() & sources2021['first_date'].isnull() #& sources2021['inquiry_opp_type'].notnull()\n",
    "\n",
    "temp = sources2021[mask8]\n",
    "\n",
    "temp['inquiry_opp_type'].value_counts()"
   ]
  }
 ],
 "metadata": {
  "kernelspec": {
   "display_name": "Python 3 (ipykernel)",
   "language": "python",
   "name": "python3"
  },
  "language_info": {
   "codemirror_mode": {
    "name": "ipython",
    "version": 3
   },
   "file_extension": ".py",
   "mimetype": "text/x-python",
   "name": "python",
   "nbconvert_exporter": "python",
   "pygments_lexer": "ipython3",
   "version": "3.12.4"
  }
 },
 "nbformat": 4,
 "nbformat_minor": 5
}
